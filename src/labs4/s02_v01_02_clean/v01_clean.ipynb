{
 "cells": [
  {
   "cell_type": "code",
   "execution_count": 3,
   "metadata": {},
   "outputs": [
    {
     "name": "stderr",
     "output_type": "stream",
     "text": [
      "/tmp/ipykernel_325401/4132515598.py:15: DtypeWarning: Columns (3,5,6) have mixed types. Specify dtype option on import or set low_memory=False.\n",
      "  df = pd.read_csv(file)\n",
      "/tmp/ipykernel_325401/4132515598.py:22: DtypeWarning: Columns (3,5,6) have mixed types. Specify dtype option on import or set low_memory=False.\n",
      "  df[\"Datetime\"] = pd.read_csv(file)[\"Datetime\"]\n",
      "/tmp/ipykernel_325401/4132515598.py:15: DtypeWarning: Columns (2,9) have mixed types. Specify dtype option on import or set low_memory=False.\n",
      "  df = pd.read_csv(file)\n",
      "/tmp/ipykernel_325401/4132515598.py:22: DtypeWarning: Columns (2,9) have mixed types. Specify dtype option on import or set low_memory=False.\n",
      "  df[\"Datetime\"] = pd.read_csv(file)[\"Datetime\"]\n",
      "/tmp/ipykernel_325401/4132515598.py:15: DtypeWarning: Columns (4,5) have mixed types. Specify dtype option on import or set low_memory=False.\n",
      "  df = pd.read_csv(file)\n",
      "/tmp/ipykernel_325401/4132515598.py:22: DtypeWarning: Columns (4,5) have mixed types. Specify dtype option on import or set low_memory=False.\n",
      "  df[\"Datetime\"] = pd.read_csv(file)[\"Datetime\"]\n",
      "/tmp/ipykernel_325401/4132515598.py:15: DtypeWarning: Columns (4,5) have mixed types. Specify dtype option on import or set low_memory=False.\n",
      "  df = pd.read_csv(file)\n",
      "/tmp/ipykernel_325401/4132515598.py:22: DtypeWarning: Columns (4,5) have mixed types. Specify dtype option on import or set low_memory=False.\n",
      "  df[\"Datetime\"] = pd.read_csv(file)[\"Datetime\"]\n",
      "/tmp/ipykernel_325401/4132515598.py:15: DtypeWarning: Columns (2,5,10) have mixed types. Specify dtype option on import or set low_memory=False.\n",
      "  df = pd.read_csv(file)\n",
      "/tmp/ipykernel_325401/4132515598.py:22: DtypeWarning: Columns (2,5,10) have mixed types. Specify dtype option on import or set low_memory=False.\n",
      "  df[\"Datetime\"] = pd.read_csv(file)[\"Datetime\"]\n",
      "/tmp/ipykernel_325401/4132515598.py:15: DtypeWarning: Columns (2,4) have mixed types. Specify dtype option on import or set low_memory=False.\n",
      "  df = pd.read_csv(file)\n",
      "/tmp/ipykernel_325401/4132515598.py:22: DtypeWarning: Columns (2,4) have mixed types. Specify dtype option on import or set low_memory=False.\n",
      "  df[\"Datetime\"] = pd.read_csv(file)[\"Datetime\"]\n",
      "/tmp/ipykernel_325401/4132515598.py:15: DtypeWarning: Columns (2,10) have mixed types. Specify dtype option on import or set low_memory=False.\n",
      "  df = pd.read_csv(file)\n",
      "/tmp/ipykernel_325401/4132515598.py:22: DtypeWarning: Columns (2,10) have mixed types. Specify dtype option on import or set low_memory=False.\n",
      "  df[\"Datetime\"] = pd.read_csv(file)[\"Datetime\"]\n",
      "/tmp/ipykernel_325401/4132515598.py:15: DtypeWarning: Columns (2,7,8,11,12) have mixed types. Specify dtype option on import or set low_memory=False.\n",
      "  df = pd.read_csv(file)\n",
      "/tmp/ipykernel_325401/4132515598.py:22: DtypeWarning: Columns (2,7,8,11,12) have mixed types. Specify dtype option on import or set low_memory=False.\n",
      "  df[\"Datetime\"] = pd.read_csv(file)[\"Datetime\"]\n",
      "/tmp/ipykernel_325401/4132515598.py:15: DtypeWarning: Columns (4) have mixed types. Specify dtype option on import or set low_memory=False.\n",
      "  df = pd.read_csv(file)\n",
      "/tmp/ipykernel_325401/4132515598.py:22: DtypeWarning: Columns (4) have mixed types. Specify dtype option on import or set low_memory=False.\n",
      "  df[\"Datetime\"] = pd.read_csv(file)[\"Datetime\"]\n"
     ]
    },
    {
     "data": {
      "text/plain": [
       "PosixPath('/mnt/e/MayThesis2025/src/labs4/s02_v01_02_clean/output')"
      ]
     },
     "execution_count": 3,
     "metadata": {},
     "output_type": "execute_result"
    }
   ],
   "source": [
    "import pandas as pd\n",
    "import numpy as np\n",
    "from pathlib import Path\n",
    "\n",
    "# Define the input and output directories\n",
    "input_dir = Path(\"/mnt/e/MayThesis2025/src/labs4/s01_v02_merge/output\")\n",
    "output_dir = Path.cwd() / \"output\"\n",
    "output_dir.mkdir(exist_ok=True)\n",
    "\n",
    "# Read all CSV files in the input directory\n",
    "csv_files = list(input_dir.glob(\"*.csv\"))\n",
    "\n",
    "for file in csv_files:\n",
    "    # Read CSV file\n",
    "    df = pd.read_csv(file)\n",
    "\n",
    "    # Convert non-numeric values to NaN\n",
    "    df = df.apply(pd.to_numeric, errors=\"coerce\")\n",
    "\n",
    "    # Convert 'Datetime' column back to string if it exists\n",
    "    if \"Datetime\" in df.columns:\n",
    "        df[\"Datetime\"] = pd.read_csv(file)[\"Datetime\"]\n",
    "\n",
    "    # All columns not DateTime Use upper case\n",
    "    df.columns = df.columns.str.upper()\n",
    "    df.rename(columns={\"DATETIME\": \"Datetime\"}, inplace=True)\n",
    "\n",
    "    # remove column dev\n",
    "    df.drop(columns=[\"DEV\"], inplace=True)\n",
    "\n",
    "    # Save the processed DataFrame to the output directory\n",
    "    output_file = output_dir / file.name\n",
    "    df.to_csv(output_file, index=False)\n",
    "\n",
    "# Display the output directory\n",
    "output_dir"
   ]
  }
 ],
 "metadata": {
  "kernelspec": {
   "display_name": "tf-gpu",
   "language": "python",
   "name": "python3"
  },
  "language_info": {
   "codemirror_mode": {
    "name": "ipython",
    "version": 3
   },
   "file_extension": ".py",
   "mimetype": "text/x-python",
   "name": "python",
   "nbconvert_exporter": "python",
   "pygments_lexer": "ipython3",
   "version": "3.11.11"
  }
 },
 "nbformat": 4,
 "nbformat_minor": 2
}
